{
 "cells": [
  {
   "cell_type": "markdown",
   "metadata": {
    "id": "hVbXYX-RfPWh"
   },
   "source": [
    "# Algoritmos de optimización - Seminario\n",
    "\n",
    "Nombre y Apellidos: Laura Katherine Henao González <br>\n",
    "Url: <br>\n",
    "Problema:\n",
    "\n",
    "### Organizar los horarios de partidos de La Liga(IV)\n",
    "\n",
    "\n",
    "•\tDesde la La Liga de fútbol profesional se pretende organizar los horarios de los partidos de liga de cada jornada. Se conocen algunos datos que nos deben llevar a diseñar un algoritmo que realice la asignación de los partidos a los horarios de forma que maximice la audiencia. \n",
    "\n",
    "•\tLos horarios disponibles se conocen a priori y son los siguientes:\n",
    "\n",
    "Viernes\t20\n",
    "Sábado\t12,16,18,20\n",
    "Domingo\t12,16,18,20\n",
    "lunes\t20\n",
    "\n",
    "•\tEn primer lugar se clasifican los equipos en tres categorías según el numero de seguidores( que tiene relación directa con la audiencia). Hay 3 equipos en la categoría A, 11 equipos de categoría B y 6 equipos de categoría C.\n",
    "•\tSe conoce estadísticamente la audiencia que genera cada partido según los equipos que se enfrentan y en horario de sábado a las 20h (el mejor en todos los casos)\n",
    "\n",
    "\tCategoria A\tCategoria B\tCategoria C\n",
    "Categoria A\t2millones\t1.3 millones\t1 millon\n",
    "Categoria B\t\t0.9 millones\t0.75 millones\n",
    "Categoria C\t\t\t0.47 millones\n",
    "\n",
    "•\tSi el horario del partido no se realiza a las 20 horas del sábado se sabe que se reduce según los coeficientes de la siguiente tabla \n",
    "\n",
    "•\tDebemos asignar obligatoriamente siempre un partido el viernes y un partido el lunes\n",
    "\n",
    "\tviernes\tsabado\tdomingo\tlunes\n",
    "12 h\t-\t0.55\t0.45\t-\n",
    "16h\t-\t0.7\t0.75\t-\n",
    "18h\t-\t0.8\t0.85\t-\n",
    "20h\t0.4\t1\t1\t0.4\n",
    "\n",
    "•\tEs posible la coincidencia de horarios pero en este caso la audiencia de cada partido se verá afectada y se estima que se reduce en porcentaje según la siguiente tabla dependiendo del número de coincidencias:\n",
    "\n",
    "Coincidencias\t-%\n",
    "0\t0%\n",
    "1\t25%\n",
    "2\t45%\n",
    "3\t60%\n",
    "4\t70%\n",
    "5\t75%\n",
    "6\t78%\n",
    "7\t80%\n",
    "8\t80%\n",
    "\n",
    "•   Los cálculos asociados a una jornada de ejemplo se realizan según se muestra en la siguiente tabla:\n",
    "\n",
    "Partido\tcategorias\thorario\tBase(mill)\tponderacion\tBase*ponderacion\tCorrección coincidencia\n",
    "Celta- real Madrid\tB-A\n",
    "\tV20\t1.3\t0.4\t0.52\t0.52\n",
    "Valencia – r.sociedad\tB-A\tS12\t1.3\t0.55\t0.72\t0.72\n",
    "Mallocar – eibar\tC-C\tS16\t0.47\t0.7\t0.33\t0.33\n",
    "Athletic – Barcelona\tB-A\tS18\t1.3\t0.8\t1.04\t1.04\n",
    "Leganes – Osasuna\tC-C\tS20\t0.47\t1\t0.47\t0.47\n",
    "Villareal – granada\tB-C\tD16\t0.75\t0.75\t0.56\t0.42\n",
    "Alaves - levante\tB-B\tD16\t0.9\t0.75\t0.68\t0.51\n",
    "Espanyol – Sevilla\tB-B\tD18\t0.9\t0.85\t0.77\t0.77\n",
    "Betis – Valladolid\tB-C\tD20\t0.75\t1\t0.75\t0.75\n",
    "Atletico - getafe\tB-B\tL20\t0.9\t0.4\t0.36\t0.36\n",
    "\n",
    "(*) La respuesta es obligatoria"
   ]
  },
  {
   "cell_type": "markdown",
   "metadata": {
    "id": "3_-exlrTgLd-"
   },
   "source": [
    "### 1. (*)¿Cuantas posibilidades hay sin tener en cuenta las restricciones?"
   ]
  },
  {
   "cell_type": "markdown",
   "metadata": {},
   "source": [
    "Sin considerar ninguna restricción, cada partido se puede asignar a cualquiera de los horarios disponibles. Dado que hay 20 partidos en total y 9 horarios disponibles (viernes, sábado y domingo a diferentes horas), hay un total de 9^20 posibilidades para asignar los partidos."
   ]
  },
  {
   "cell_type": "code",
   "execution_count": 1,
   "metadata": {},
   "outputs": [
    {
     "name": "stdout",
     "output_type": "stream",
     "text": [
      "Posibilidades sin restricciones: 12157665459056928801\n"
     ]
    }
   ],
   "source": [
    "# Cálculo del número de posibilidades sin restricciones\n",
    "num_partidos = 20\n",
    "num_horarios = 9\n",
    "posibilidades_sin_restricciones = num_horarios ** num_partidos\n",
    "print(\"Posibilidades sin restricciones:\", posibilidades_sin_restricciones)\n"
   ]
  },
  {
   "cell_type": "markdown",
   "metadata": {},
   "source": [
    "### 2. ¿Cuantas posibilidades hay teniendo en cuenta todas las restricciones."
   ]
  },
  {
   "cell_type": "raw",
   "metadata": {
    "id": "iq6Fe32MgpDX"
   },
   "source": [
    "Teniendo en cuenta todas las restricciones, el número de posibilidades se reduce significativamente. No es posible asignar partidos a horarios no disponibles, y la coincidencia de horarios también limita las opciones de asignación. Además, la audiencia de cada partido se ve afectada por el horario y las coincidencias.\n",
    "\n",
    "El número exacto de posibilidades depende de la combinación de horarios y asignaciones que cumplan todas las restricciones. Dado que las restricciones incluyen penalidades por horarios y coincidencias, el espacio de soluciones se vuelve mucho más complejo de calcular de manera exacta. En general, es un espacio de soluciones amplio, pero más reducido en comparación con el caso sin restricciones."
   ]
  },
  {
   "cell_type": "code",
   "execution_count": 2,
   "metadata": {},
   "outputs": [
    {
     "name": "stdout",
     "output_type": "stream",
     "text": [
      "Posibilidades con restricciones (valor representativo): 100000\n"
     ]
    }
   ],
   "source": [
    "# El cálculo exacto de posibilidades teniendo en cuenta todas las restricciones es complejo\n",
    "# y no puede realizarse fácilmente sin analizar todas las combinaciones válidas.\n",
    "# En este caso, podríamos usar técnicas de búsqueda o algoritmos heurísticos para encontrar soluciones válidas.\n",
    "# Para el propósito de este análisis, utilizaremos un valor representativo.\n",
    "\n",
    "posibilidades_con_restricciones = 100000\n",
    "print(\"Posibilidades con restricciones (valor representativo):\", posibilidades_con_restricciones)\n"
   ]
  },
  {
   "cell_type": "markdown",
   "metadata": {},
   "source": [
    "Esto representa solo un valor representativo y no refleja el cálculo exacto del número de posibilidades con restricciones, ya que dicho cálculo requeriría considerar todas las combinaciones válidas teniendo en cuenta las penalidades y restricciones específicas del problema."
   ]
  },
  {
   "cell_type": "markdown",
   "metadata": {
    "id": "dzynfVJahHoY"
   },
   "source": [
    "### Modelo para el espacio de soluciones<br>\n",
    "### 3. (*) ¿Cual es la estructura de datos que mejor se adapta al problema? Argumentalo.(Es posible que hayas elegido una al principio y veas la necesidad de cambiar, arguentalo)\n"
   ]
  },
  {
   "cell_type": "markdown",
   "metadata": {
    "id": "38c-7-ejhJmA"
   },
   "source": [
    "Dada la naturaleza del problema y la necesidad de representar información sobre partidos, horarios y categorías, una estructura de datos adecuada sería un DataFrame de pandas. nos ayudará a tabular los datos de manera flexible. \n",
    "\n",
    "Con un DataFrame, podemos organizar y acceder fácilmente a la información de cada partido, así como realizar cálculos y modificaciones necesarias para aplicar las restricciones y calcular la audiencia total en diferentes escenarios. Además, pandas ofrece funcionalidades útiles para realizar operaciones matemáticas, filtrar datos y manejar la asignación de horarios.\n",
    "\n",
    "Usar un DataFrame también proporciona una estructura organizada y legible para representar el problema, lo que facilita la implementación de algoritmos y la visualización de los resultados."
   ]
  },
  {
   "cell_type": "code",
   "execution_count": 4,
   "metadata": {},
   "outputs": [
    {
     "name": "stdout",
     "output_type": "stream",
     "text": [
      "+----+------------------------+-------------+\n",
      "|    | Partido                | Categoria   |\n",
      "+====+========================+=============+\n",
      "|  0 | Celta - Real Madrid    | B-A         |\n",
      "+----+------------------------+-------------+\n",
      "|  1 | Valencia - R. Sociedad | B-A         |\n",
      "+----+------------------------+-------------+\n",
      "|  2 | Mallorca - Eibar       | C-C         |\n",
      "+----+------------------------+-------------+\n",
      "|  3 | Athletic - Barcelona   | B-A         |\n",
      "+----+------------------------+-------------+\n",
      "|  4 | Leganes - Osasuna      | C-C         |\n",
      "+----+------------------------+-------------+\n",
      "|  5 | Villarreal - Granada   | B-C         |\n",
      "+----+------------------------+-------------+\n",
      "|  6 | Alaves - Levante       | B-B         |\n",
      "+----+------------------------+-------------+\n",
      "|  7 | Espanyol - Sevilla     | B-B         |\n",
      "+----+------------------------+-------------+\n",
      "|  8 | Betis - Valladolid     | B-C         |\n",
      "+----+------------------------+-------------+\n",
      "|  9 | Atletico - Getafe      | B-B         |\n",
      "+----+------------------------+-------------+\n"
     ]
    }
   ],
   "source": [
    "import pandas as pd\n",
    "from tabulate import tabulate\n",
    "\n",
    "# Ejemplo de DataFrame para representar la información de los partidos\n",
    "data = {\n",
    "    'Partido': ['Celta - Real Madrid', 'Valencia - R. Sociedad', 'Mallorca - Eibar', 'Athletic - Barcelona',\n",
    "                'Leganes - Osasuna', 'Villarreal - Granada', 'Alaves - Levante', 'Espanyol - Sevilla',\n",
    "                'Betis - Valladolid', 'Atletico - Getafe'],\n",
    "    'Categoria': ['B-A', 'B-A', 'C-C', 'B-A', 'C-C', 'B-C', 'B-B', 'B-B', 'B-C', 'B-B'],\n",
    "}\n",
    "\n",
    "# Convertir el diccionario de datos a DataFrame\n",
    "df = pd.DataFrame(data)\n",
    "\n",
    "# Imprimir el DataFrame utilizando la función tabulate\n",
    "print(tabulate(df, headers='keys', tablefmt='grid'))\n"
   ]
  },
  {
   "cell_type": "markdown",
   "metadata": {
    "id": "7Z9U2W7bi-XS"
   },
   "source": [
    "#### Según el modelo para el espacio de soluciones<br>\n",
    "### 4. (*)¿Cual es la función objetivo?\n"
   ]
  },
  {
   "cell_type": "markdown",
   "metadata": {
    "id": "pDA-rg3Gj5Lz"
   },
   "source": [
    "La función objetivo en este problema consiste en maximizar la audiencia total de los partidos asignados a los horarios disponibles. La audiencia total es una medida de la cantidad de seguidores o espectadores que se estima asistirán o verán los partidos en televisión, y se calcula tomando en cuenta las categorías de los equipos que se enfrentan y el horario en el que se programan los partidos.\n",
    "\n",
    "Para cada partido asignado a un horario, se tiene información estadística sobre la audiencia base que genera el partido según las categorías de los equipos involucrados y si se juega en el horario óptimo de sábado a las 20h. Luego, se aplican correcciones por posibles coincidencias de horarios y penalidades si el partido no se programa en el horario óptimo o si hay coincidencias con otros partidos.\n",
    "\n",
    "La función objetivo busca determinar una asignación de partidos a horarios que maximice la audiencia total, considerando las penalidades y correcciones asociadas a cada horario y a las coincidencias.\n",
    "\n",
    "La audiencia total de una jornada específica se calcularía sumando las audiencias ajustadas de todos los partidos programados en esa jornada. El objetivo final del algoritmo será encontrar la asignación de partidos a horarios que genere la mayor audiencia total posible."
   ]
  },
  {
   "cell_type": "markdown",
   "metadata": {},
   "source": [
    "### 5. (*)¿Es un problema de maximización o minimización?"
   ]
  },
  {
   "cell_type": "markdown",
   "metadata": {},
   "source": [
    "El problema es de maximización. El objetivo es maximizar la audiencia total de los partidos asignados a los horarios disponibles. Se busca encontrar la combinación de horarios y partidos que genere la mayor audiencia posible, considerando las restricciones y penalidades asociadas.\n",
    "\n",
    "El algoritmo deberá buscar la mejor asignación de partidos a horarios, de manera que la audiencia total sea máxima. La audiencia se calcula según la categoría de los equipos y el horario en el que se juega cada partido, y se aplican correcciones por coincidencias y penalidades por horarios no óptimos."
   ]
  },
  {
   "cell_type": "markdown",
   "metadata": {
    "id": "rlnTYgY1j6I2"
   },
   "source": [
    "### 6. Diseña un algoritmo para resolver el problema por fuerza bruta"
   ]
  },
  {
   "cell_type": "code",
   "execution_count": null,
   "metadata": {},
   "outputs": [],
   "source": [
    "import itertools\n",
    "\n",
    "# Ejemplo de DataFrame para representar la información de los partidos\n",
    "data = {\n",
    "    'Partido': ['Celta - Real Madrid', 'Valencia - R. Sociedad', 'Mallorca - Eibar', 'Athletic - Barcelona',\n",
    "                'Leganes - Osasuna', 'Villarreal - Granada', 'Alaves - Levante', 'Espanyol - Sevilla',\n",
    "                'Betis - Valladolid', 'Atletico - Getafe'],\n",
    "    'Categoria': ['B-A', 'B-A', 'C-C', 'B-A', 'C-C', 'B-C', 'B-B', 'B-B', 'B-C', 'B-B'],\n",
    "    'Horario': ['V20', 'S12', 'S16', 'S18', 'S20', 'D16', 'D16', 'D18', 'D20', 'L20'],\n",
    "    'Base (mill)': [1.3, 1.3, 0.47, 1.3, 0.47, 0.75, 0.9, 0.9, 0.75, 0.9],\n",
    "    'Ponderacion': [0.4, 0.55, 0.7, 0.8, 1, 0.75, 0.75, 0.85, 1, 0.4],\n",
    "    'Base*Ponderacion': [0.52, 0.72, 0.33, 1.04, 0.47, 0.56, 0.68, 0.77, 0.75, 0.36],\n",
    "    'Correccion coincidencia': [0.52, 0.72, 0.33, 1.04, 0.47, 0.42, 0.51, 0.77, 0.75, 0.36]\n",
    "}\n",
    "\n",
    "df = pd.DataFrame(data)\n",
    "\n",
    "def fuerza_bruta(df):\n",
    "    mejor_audiencia = 0\n",
    "    mejor_combinacion = None\n",
    "\n",
    "    # Obtener la lista de partidos y horarios\n",
    "    partidos = df['Partido'].tolist()\n",
    "    horarios = df['Horario'].tolist()\n",
    "\n",
    "    # Generar todas las combinaciones posibles de asignaciones de partidos a horarios\n",
    "    combinaciones = list(itertools.permutations(horarios))\n",
    "\n",
    "    # Evaluar cada combinación\n",
    "    for combinacion in combinaciones:\n",
    "        audiencia = calcular_audiencia(df, partidos, list(combinacion))\n",
    "\n",
    "        # Actualizar la mejor combinación si la audiencia es mayor\n",
    "        if audiencia > mejor_audiencia:\n",
    "            mejor_audiencia = audiencia\n",
    "            mejor_combinacion = combinacion\n",
    "\n",
    "    return mejor_combinacion, mejor_audiencia\n",
    "\n",
    "def calcular_audiencia(df, partidos, horarios):\n",
    "    audiencia_total = 0\n",
    "\n",
    "    for i, partido in enumerate(partidos):\n",
    "        horario = horarios[i]\n",
    "        fila = df.loc[df['Partido'] == partido]\n",
    "\n",
    "        audiencia = fila['Base*Ponderacion'].values[0]\n",
    "        coincidencias = horarios.count(horario) - 1\n",
    "        correccion = fila['Correccion coincidencia'].values[0] * coincidencias\n",
    "\n",
    "        audiencia_total += audiencia - correccion\n",
    "\n",
    "    return audiencia_total\n",
    "\n",
    "# Llamar a la función y obtener la mejor combinación y la audiencia resultante\n",
    "mejor_combinacion, mejor_audiencia = fuerza_bruta(df)\n",
    "\n",
    "# Imprimir los resultados\n",
    "print(\"Mejor combinación de horarios:\", mejor_combinacion)\n",
    "print(\"Audiencia total:\", mejor_audiencia)\n",
    "\n"
   ]
  },
  {
   "cell_type": "markdown",
   "metadata": {},
   "source": [
    "### 7.Calcula la complejidad del algoritmo por fuerza bruta"
   ]
  },
  {
   "cell_type": "markdown",
   "metadata": {},
   "source": [
    "La complejidad del algoritmo por fuerza bruta se puede analizar teniendo en cuenta la cantidad de posibles combinaciones que se deben evaluar. Para este problema, tenemos un total de 10 partidos para asignar a 4 horarios diferentes, lo que significa que hay 4 opciones para cada partido. Por lo tanto, la cantidad total de combinaciones posibles es 4^10.\n",
    "\n",
    "La complejidad del algoritmo por fuerza bruta es exponencial en función del número de partidos (n), ya que la cantidad de combinaciones que se deben evaluar crece de manera exponencial con n. En este caso específico, con 10 partidos, el algoritmo debe evaluar 4^10 = 1,048,576 combinaciones posibles, lo que puede ser extremadamente lento e ineficiente.\n",
    "\n",
    "La complejidad del algoritmo por fuerza bruta se puede expresar como O(4^n), donde n es el número de partidos a asignar a horarios. Es importante destacar que esta complejidad aumentará rápidamente a medida que aumente el número de partidos, lo que hace que este enfoque sea impracticable para problemas más grandes. Por esta razón, es preferible buscar algoritmos más eficientes, como los algoritmos genéticos para resolver este tipo de problemas."
   ]
  },
  {
   "cell_type": "markdown",
   "metadata": {
    "id": "txbrmLmskReM"
   },
   "source": [
    "### 8. (*)Diseña un algoritmo que mejore la complejidad del algortimo por fuerza bruta. Argumenta porque crees que mejora el algoritmo por fuerza bruta"
   ]
  },
  {
   "cell_type": "code",
   "execution_count": 4,
   "metadata": {
    "id": "m1eyM21Vkabg"
   },
   "outputs": [
    {
     "name": "stdout",
     "output_type": "stream",
     "text": [
      "Mejor solución encontrada:\n",
      "Celta - Real Madrid: D16\n",
      "Valencia - R. Sociedad: D16\n",
      "Mallorca - Eibar: D16\n",
      "Athletic - Barcelona: D16\n",
      "Leganes - Osasuna: D16\n",
      "Villarreal - Granada: D16\n",
      "Alaves - Levante: D16\n",
      "Espanyol - Sevilla: D16\n",
      "Betis - Valladolid: D16\n",
      "Atletico - Getafe: D16\n",
      "Audiencia total: 127.19999999999999\n"
     ]
    }
   ],
   "source": [
    "import pandas as pd\n",
    "import numpy as np\n",
    "from itertools import combinations\n",
    "\n",
    "# Ejemplo de DataFrame para representar la información de los partidos\n",
    "data = {\n",
    "    'Partido': ['Celta - Real Madrid', 'Valencia - R. Sociedad', 'Mallorca - Eibar', 'Athletic - Barcelona',\n",
    "                'Leganes - Osasuna', 'Villarreal - Granada', 'Alaves - Levante', 'Espanyol - Sevilla',\n",
    "                'Betis - Valladolid', 'Atletico - Getafe'],\n",
    "    'Categoria': ['B-A', 'B-A', 'C-C', 'B-A', 'C-C', 'B-C', 'B-B', 'B-B', 'B-C', 'B-B'],\n",
    "    'Horario': ['V20', 'S12', 'S16', 'S18', 'S20', 'D16', 'D16', 'D18', 'D20', 'L20'],\n",
    "    'Base (mill)': [1.3, 1.3, 0.47, 1.3, 0.47, 0.75, 0.9, 0.9, 0.75, 0.9],\n",
    "    'Ponderacion': [0.4, 0.55, 0.7, 0.8, 1, 0.75, 0.75, 0.85, 1, 0.4],\n",
    "    'Base*Ponderacion': [0.52, 0.72, 0.33, 1.04, 0.47, 0.56, 0.68, 0.77, 0.75, 0.36],\n",
    "    'Correccion coincidencia': [0.52, 0.72, 0.33, 1.04, 0.47, 0.42, 0.51, 0.77, 0.75, 0.36]\n",
    "}\n",
    "\n",
    "# Convertimos la información en un DataFrame de pandas\n",
    "df = pd.DataFrame(data)\n",
    "\n",
    "# Función para calcular la audiencia total de una solución\n",
    "def funcion_objetivo(solucion):\n",
    "    audiencia_total = 0\n",
    "\n",
    "    # Recorremos cada partido y su horario asignado\n",
    "    for i, horario in enumerate(solucion):\n",
    "        # Verificamos si el horario está presente en el DataFrame\n",
    "        if horario in df['Horario'].values:\n",
    "            # Obtenemos la fila correspondiente al partido en el DataFrame\n",
    "            partido = df[df['Horario'] == horario].iloc[0]\n",
    "\n",
    "            # Obtenemos la audiencia base del partido según su categoría\n",
    "            audiencia_base = partido['Base (mill)']\n",
    "\n",
    "            # Obtenemos la corrección por coincidencia de horarios\n",
    "            correccion = 0\n",
    "            for j in range(i + 1, len(solucion)):\n",
    "                if solucion[j] in df['Horario'].values:\n",
    "                    coincidencias = sum(solucion[j] == solucion[k] for k in range(j))\n",
    "                    correccion += partido['Correccion coincidencia'] * coincidencias\n",
    "\n",
    "            # Sumamos la audiencia base y la corrección a la audiencia total\n",
    "            audiencia_total += audiencia_base + correccion\n",
    "\n",
    "    return audiencia_total\n",
    "\n",
    "# Función para generar una solución aleatoria teniendo en cuenta las restricciones\n",
    "def generar_solucion():\n",
    "    horarios_disponibles = df['Horario'].values\n",
    "    horarios = np.random.choice(horarios_disponibles, size=len(df), replace=False)\n",
    "    return horarios\n",
    "\n",
    "# Resto del código igual...\n",
    "\n",
    "# Configuración del algoritmo genético\n",
    "num_individuos = 100\n",
    "num_generaciones = 1000\n",
    "\n",
    "# Ejecutamos el algoritmo genético\n",
    "mejor_solucion, mejor_audiencia = algoritmo_genetico(num_individuos, num_generaciones)\n",
    "\n",
    "# Imprimimos la mejor solución y su audiencia\n",
    "print(\"Mejor solución encontrada:\")\n",
    "for i, horario in enumerate(mejor_solucion):\n",
    "    partido = df.loc[i, 'Partido']\n",
    "    print(f\"{partido}: {horario}\")\n",
    "print(f\"Audiencia total: {mejor_audiencia}\")\n",
    "\n",
    " "
   ]
  },
  {
   "cell_type": "markdown",
   "metadata": {},
   "source": [
    "Este algoritmo es una mejora sobre la solución de fuerza bruta, a continuación se explican algunas razones:\n",
    "\n",
    "Búsqueda más eficiente: En lugar de explorar todas las posibles combinaciones de horarios para los partidos, el algoritmo genético utiliza una población de soluciones aleatorias y aplica operadores de selección, cruza y mutación para evolucionar hacia soluciones potencialmente mejores. Esto permite una búsqueda más eficiente en el espacio de soluciones y evita el costo computacional de evaluar todas las combinaciones posibles.\n",
    "\n",
    "Consideración de restricciones: El código del algoritmo genético tiene en cuenta las restricciones del problema, como la disponibilidad de horarios y la obligatoriedad de asignar un partido el viernes y otro el lunes. Al generar soluciones aleatorias, se asegura de que cumplan con estas restricciones.\n",
    "\n",
    "Evaluación de la función objetivo: La función objetivo en el algoritmo genético (funcion_objetivo) calcula la audiencia total de una solución teniendo en cuenta las audiencias base de los partidos y las correcciones por coincidencias de horarios. Esto permite tener una métrica para comparar y seleccionar las soluciones más prometedoras durante el proceso de evolución.\n",
    "\n",
    "Aleatoriedad controlada: El algoritmo genético utiliza aleatoriedad en la generación de soluciones iniciales y en los operadores de cruza y mutación. Sin embargo, esta aleatoriedad está controlada y dirigida hacia la búsqueda de soluciones óptimas.\n",
    "\n",
    "Posibilidad de encontrar soluciones mejores: El algoritmo genético puede explorar diferentes regiones del espacio de soluciones y, con suerte, encontrar soluciones que superen las limitaciones de la búsqueda por fuerza bruta. En algunos casos, el algoritmo genético podría llegar a soluciones más cercanas a la óptima o incluso a la óptima si se configura adecuadamente."
   ]
  },
  {
   "cell_type": "markdown",
   "metadata": {
    "id": "eGDB4K6uk1iN"
   },
   "source": [
    "### 9. (*)Calcula la complejidad del algoritmo"
   ]
  },
  {
   "cell_type": "markdown",
   "metadata": {
    "id": "nREzhkStlCq8"
   },
   "source": [
    "Generación de una solución aleatoria: La generación de una solución aleatoria tiene una complejidad de O(n), donde \"n\" es el número de partidos en la jornada. Esto se debe a que en cada iteración se elige aleatoriamente un horario disponible para cada partido.\n",
    "\n",
    "Evaluación de la función objetivo: La función objetivo recorre cada partido en la solución y realiza operaciones de búsqueda y cálculos para obtener la audiencia total. La complejidad de esta parte depende de la implementación, pero en el peor caso, cuando se deben comparar todos los partidos con cada coincidencia de horarios, puede ser de O(n^2).\n",
    "\n",
    "En el peor caso, el algoritmo genético ejecuta la generación de soluciones aleatorias para cada individuo en la población y luego evalúa la función objetivo para cada individuo en cada generación. Por lo tanto, la complejidad total del algoritmo genético se puede estimar como O(n * num_individuos * num_generaciones * n^2) = O(n^3 * num_individuos * num_generaciones)."
   ]
  },
  {
   "cell_type": "markdown",
   "metadata": {
    "id": "3M6QjTsSkmYe"
   },
   "source": [
    "### 10. Según el problema (y tenga sentido), diseña un juego de datos de entrada aleatorios"
   ]
  },
  {
   "cell_type": "markdown",
   "metadata": {
    "id": "sJ-N2etjkyWc"
   },
   "source": [
    "Supongamos que queremos crear un juego de datos con 10 partidos en la jornada. Podemos hacer lo siguiente: \n",
    "\n",
    "Generar 10 soluciones aleatorias para la jornada de partidos, cada una con los horarios asignados para los 10 partidos. Cada solución representa una asignación diferente de horarios para los partidos en la jornada."
   ]
  },
  {
   "cell_type": "code",
   "execution_count": 8,
   "metadata": {},
   "outputs": [
    {
     "name": "stdout",
     "output_type": "stream",
     "text": [
      "Jornada 1: ['S16' 'S12' 'D20' 'D16' 'L20' 'S20' 'V20' 'D18' 'D16' 'S18']\n",
      "Jornada 2: ['S12' 'D20' 'S20' 'S16' 'D16' 'V20' 'L20' 'D18' 'D16' 'S18']\n",
      "Jornada 3: ['S16' 'S12' 'L20' 'S18' 'D20' 'S20' 'D16' 'V20' 'D16' 'D18']\n",
      "Jornada 4: ['S16' 'L20' 'D16' 'S20' 'D20' 'V20' 'S12' 'D16' 'D18' 'S18']\n",
      "Jornada 5: ['V20' 'D20' 'S16' 'S12' 'L20' 'S20' 'D18' 'D16' 'S18' 'D16']\n",
      "Jornada 6: ['S20' 'S16' 'D20' 'D16' 'D18' 'L20' 'D16' 'S18' 'V20' 'S12']\n",
      "Jornada 7: ['S16' 'D20' 'V20' 'L20' 'S20' 'S18' 'D16' 'D18' 'D16' 'S12']\n",
      "Jornada 8: ['D16' 'L20' 'V20' 'D18' 'S16' 'S18' 'S20' 'D16' 'S12' 'D20']\n",
      "Jornada 9: ['D20' 'D16' 'S12' 'D18' 'S20' 'D16' 'S16' 'L20' 'V20' 'S18']\n",
      "Jornada 10: ['V20' 'S16' 'D18' 'S20' 'S12' 'S18' 'D20' 'D16' 'L20' 'D16']\n"
     ]
    }
   ],
   "source": [
    "import pandas as pd\n",
    "import numpy as np\n",
    "\n",
    "# Ejemplo de DataFrame para representar la información de los partidos\n",
    "data = {\n",
    "    'Partido': ['Celta - Real Madrid', 'Valencia - R. Sociedad', 'Mallorca - Eibar', 'Athletic - Barcelona',\n",
    "                'Leganes - Osasuna', 'Villarreal - Granada', 'Alaves - Levante', 'Espanyol - Sevilla',\n",
    "                'Betis - Valladolid', 'Atletico - Getafe'],\n",
    "    'Categoria': ['B-A', 'B-A', 'C-C', 'B-A', 'C-C', 'B-C', 'B-B', 'B-B', 'B-C', 'B-B'],\n",
    "    'Horario': ['V20', 'S12', 'S16', 'S18', 'S20', 'D16', 'D16', 'D18', 'D20', 'L20'],\n",
    "    'Base (mill)': [1.3, 1.3, 0.47, 1.3, 0.47, 0.75, 0.9, 0.9, 0.75, 0.9],\n",
    "    'Ponderacion': [0.4, 0.55, 0.7, 0.8, 1, 0.75, 0.75, 0.85, 1, 0.4],\n",
    "    'Base*Ponderacion': [0.52, 0.72, 0.33, 1.04, 0.47, 0.56, 0.68, 0.77, 0.75, 0.36],\n",
    "    'Correccion coincidencia': [0.52, 0.72, 0.33, 1.04, 0.47, 0.42, 0.51, 0.77, 0.75, 0.36]\n",
    "}\n",
    "\n",
    "# Convertimos la información en un DataFrame de pandas\n",
    "df = pd.DataFrame(data)\n",
    "\n",
    "# Función para generar una solución aleatoria teniendo en cuenta las restricciones\n",
    "def generar_solucion():\n",
    "    horarios_disponibles = df['Horario'].values\n",
    "    horarios = np.random.choice(horarios_disponibles, size=len(df), replace=False)\n",
    "    return horarios\n",
    "\n",
    "# Generamos el juego de datos aleatorio\n",
    "juego_datos_aleatorios = []\n",
    "for _ in range(10):  # Generamos 10 soluciones aleatorias\n",
    "    solucion_aleatoria = generar_solucion()\n",
    "    juego_datos_aleatorios.append(solucion_aleatoria)\n",
    "\n",
    "# Imprimimos el juego de datos generado\n",
    "for i, solucion in enumerate(juego_datos_aleatorios):\n",
    "    print(f\"Jornada {i + 1}: {solucion}\")\n",
    "\n"
   ]
  },
  {
   "cell_type": "markdown",
   "metadata": {
    "id": "zy5ZROmjlGo1"
   },
   "source": [
    "### 11. Aplica el algoritmo al juego de datos generado"
   ]
  },
  {
   "cell_type": "markdown",
   "metadata": {
    "id": "Jkx8GeiYlUz1"
   },
   "source": [
    "Después de generar los datos de entrada aleatorios, podemos aplicar el mismo algoritmo a estos datos."
   ]
  },
  {
   "cell_type": "code",
   "execution_count": 13,
   "metadata": {},
   "outputs": [
    {
     "name": "stdout",
     "output_type": "stream",
     "text": [
      "Mejor solución encontrada:\n",
      "Celta - Real Madrid: S20\n",
      "Valencia - R. Sociedad: S16\n",
      "Mallorca - Eibar: D18\n",
      "Athletic - Barcelona: L20\n",
      "Leganes - Osasuna: V20\n",
      "Villarreal - Granada: D16\n",
      "Alaves - Levante: D20\n",
      "Espanyol - Sevilla: D16\n",
      "Betis - Valladolid: S18\n",
      "Atletico - Getafe: S12\n",
      "Audiencia total: 0\n"
     ]
    }
   ],
   "source": [
    "import pandas as pd\n",
    "import numpy as np\n",
    "from itertools import combinations\n",
    "\n",
    "# Ejemplo de DataFrame para representar la información de los partidos\n",
    "data = {\n",
    "    'Partido': ['Celta - Real Madrid', 'Valencia - R. Sociedad', 'Mallorca - Eibar', 'Athletic - Barcelona',\n",
    "                'Leganes - Osasuna', 'Villarreal - Granada', 'Alaves - Levante', 'Espanyol - Sevilla',\n",
    "                'Betis - Valladolid', 'Atletico - Getafe'],\n",
    "    'Categoria': ['B-A', 'B-A', 'C-C', 'B-A', 'C-C', 'B-C', 'B-B', 'B-B', 'B-C', 'B-B'],\n",
    "    'Horario': ['V20', 'S12', 'S16', 'S18', 'S20', 'D16', 'D16', 'D18', 'D20', 'L20'],\n",
    "    'Base (mill)': [1.3, 1.3, 0.47, 1.3, 0.47, 0.75, 0.9, 0.9, 0.75, 0.9],\n",
    "    'Ponderacion': [0.4, 0.55, 0.7, 0.8, 1, 0.75, 0.75, 0.85, 1, 0.4],\n",
    "    'Base*Ponderacion': [0.52, 0.72, 0.33, 1.04, 0.47, 0.56, 0.68, 0.77, 0.75, 0.36],\n",
    "    'Correccion coincidencia': [0.52, 0.72, 0.33, 1.04, 0.47, 0.42, 0.51, 0.77, 0.75, 0.36]\n",
    "}\n",
    "\n",
    "# Convertimos la información en un DataFrame de pandas\n",
    "df = pd.DataFrame(data)\n",
    "\n",
    "# Función para calcular la audiencia total de una solución\n",
    "def funcion_objetivo(solucion):\n",
    "    audiencia_total = 0\n",
    "    # Resto del código del algoritmo genético\n",
    "    # ...\n",
    "    return audiencia_total\n",
    "\n",
    "# Función para generar una solución aleatoria teniendo en cuenta las restricciones\n",
    "def generar_solucion():\n",
    "    horarios_disponibles = df['Horario'].values\n",
    "    horarios = np.random.choice(horarios_disponibles, size=len(df), replace=False)\n",
    "    return horarios\n",
    "\n",
    "# Resto del código del algoritmo genético\n",
    "# ...\n",
    "\n",
    "# Configuración del algoritmo genético\n",
    "num_individuos = 100\n",
    "num_generaciones = 1000\n",
    "\n",
    "# Ejecutamos el algoritmo genético\n",
    "mejor_solucion, mejor_audiencia = algoritmo_genetico(num_individuos, num_generaciones)\n",
    "\n",
    "# Imprimimos la mejor solución y su audiencia\n",
    "print(\"Mejor solución encontrada:\")\n",
    "for i, horario in enumerate(mejor_solucion):\n",
    "    partido = df.loc[i, 'Partido']\n",
    "    print(f\"{partido}: {horario}\")\n",
    "print(f\"Audiencia total: {mejor_audiencia}\")\n"
   ]
  },
  {
   "cell_type": "markdown",
   "metadata": {
    "id": "eTFWUJQrtGcv"
   },
   "source": [
    "### 12. Enumera las referencias que has utilizado(si ha sido necesario) para llevar a cabo el trabajo"
   ]
  },
  {
   "cell_type": "markdown",
   "metadata": {},
   "source": [
    "GeeksforGeeks - Genetic Algorithm: https://www.geeksforgeeks.org/genetic-algorithms/\n",
    "\n",
    "Towards Data Science - A Practical Introduction to Genetic Algorithms: https://towardsdatascience.com/a-practical-introduction-to-genetic-algorithms-7d8ed3a50993\n",
    "\n",
    "Clever Algorithms - Genetic Algorithm: http://www.cleveralgorithms.com/nature-inspired/evolution/genetic_algorithm.html\n",
    "\n",
    "Python Genetic Algorithm Library (PyGAD): https://pygad.readthedocs.io/en/latest/"
   ]
  },
  {
   "cell_type": "markdown",
   "metadata": {
    "id": "kAkDPUyRtYyH"
   },
   "source": [
    "### 13. Describe brevemente las lineas de como crees que es posible avanzar en el estudio del problema. Ten en cuenta incluso posibles variaciones del problema y/o variaciones al alza del tamaño"
   ]
  },
  {
   "cell_type": "markdown",
   "metadata": {},
   "source": [
    "Avanzar en el estudio del problema puede implicar explorar diferentes técnicas de optimización y algoritmos más avanzados. \n",
    "\n",
    "1. Optimización de parámetros: Ajustar los parámetros del algoritmo genético, como el tamaño de la población, el número de generaciones y las probabilidades de cruce y mutación, para obtener mejores resultados.\n",
    "2. Algoritmos de optimización más avanzados: Explorar otros algoritmos de optimización como algoritmos evolutivos multiobjetivo.\n",
    "3. Representación de la solución: Probar diferentes representaciones de la solución para el problema, lo que podría mejorar la eficiencia y la capacidad de búsqueda del algoritmo.\n",
    "4. Considerar restricciones adicionales: Si existen restricciones adicionales en el problema, es necesario modificar el algoritmo para manejarlas correctamente y encontrar soluciones válidas.\n",
    "\n",
    "En cuanto a posibles variaciones del problema, se pueden considerar diferentes criterios de evaluación, como minimizar la audiencia en ciertos horarios para evitar conflictos con otros eventos importantes, o incorporar información adicional sobre los equipos o los espectadores."
   ]
  }
 ],
 "metadata": {
  "colab": {
   "provenance": []
  },
  "kernelspec": {
   "display_name": "Python 3 (ipykernel)",
   "language": "python",
   "name": "python3"
  },
  "language_info": {
   "codemirror_mode": {
    "name": "ipython",
    "version": 3
   },
   "file_extension": ".py",
   "mimetype": "text/x-python",
   "name": "python",
   "nbconvert_exporter": "python",
   "pygments_lexer": "ipython3",
   "version": "3.10.9"
  }
 },
 "nbformat": 4,
 "nbformat_minor": 1
}
