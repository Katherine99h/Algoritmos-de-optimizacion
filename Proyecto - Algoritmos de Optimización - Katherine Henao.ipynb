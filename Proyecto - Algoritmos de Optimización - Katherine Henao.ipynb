{
 "cells": [
  {
   "cell_type": "markdown",
   "metadata": {
    "id": "hVbXYX-RfPWh"
   },
   "source": [
    "# Algoritmos de optimización - Seminario\n",
    "\n",
    "Nombre y Apellidos: Laura Katherine Henao González <br>\n",
    "Url: <br>\n",
    "Problema:\n",
    "\n",
    "### Sesiones de doblaje\n",
    "\n",
    "Descripción del problema:\n",
    "\n",
    "Se precisa coordinar el doblaje de una película. Los actores del doblaje deben coincidir en las\n",
    "tomas en las que sus personajes aparecen juntos en las diferentes tomas. Los actores de\n",
    "doblaje cobran toda la misma cantidad por cada día que deben desplazarse hasta el estudio de\n",
    "grabación independientemente del número de tomas que se graben. No es posible grabar más\n",
    "de 6 tomas por día. El objetivo es planificar las sesiones por día de manera que el gasto por los\n",
    "servicios de los actores de doblaje sea el menor posible. Los datos son:\n",
    "\n",
    "Número de actores: 10 <br>\n",
    "Número de tomas : 30 <br>\n",
    "Actores/Tomas : https://bit.ly/36D8IuK <br>\n",
    "\n",
    "\n",
    "(*) La respuesta es obligatoria"
   ]
  },
  {
   "cell_type": "markdown",
   "metadata": {
    "id": "3_-exlrTgLd-"
   },
   "source": [
    "### 1. (*)¿Cuantas posibilidades hay sin tener en cuenta las restricciones?"
   ]
  },
  {
   "cell_type": "markdown",
   "metadata": {},
   "source": [
    "Si no consideramos ninguna restricción, cada toma podría ser grabada en un día diferente. Por lo tanto, tendríamos tantas posibilidades como formas de ordenar las 30 tomas, lo que nos daría 30! (factorial de 30) posibilidades. Esta cifra es extremadamente grande, del orden de 10^32. "
   ]
  },
  {
   "cell_type": "markdown",
   "metadata": {},
   "source": [
    "### 2. ¿Cuantas posibilidades hay teniendo en cuenta todas las restricciones."
   ]
  },
  {
   "cell_type": "raw",
   "metadata": {
    "id": "iq6Fe32MgpDX"
   },
   "source": [
    "Si tenemos en cuenta las restricciones, el problema se vuelve mucho más complejo. Debemos tener en cuenta que no todas las tomas pueden ser grabadas en un día debido a que no más de 6 tomas pueden ser grabadas por día y los actores necesarios para cada toma pueden variar.\n",
    "\n",
    "Una forma de calcular un límite superior es considerar que cada combinación de 6 tomas podría ser un día de grabación diferente. En este caso, tendríamos una combinación de 30 tomas tomadas de 6 en 6, que nos daría combinaciones de 30 sobre 6, o C(30,6).\n",
    "\n",
    "Hay que tener en cuenta que las \"posibilidades con restricciones\" es una sobrestimación porque no hemos considerado todas las restricciones del problema. Este cálculo es la idea inicial del orden de magnitud del número de posibilidades y muestra por qué un enfoque de fuerza bruta sería computacionalmente muy costoso."
   ]
  },
  {
   "cell_type": "code",
   "execution_count": 27,
   "metadata": {},
   "outputs": [
    {
     "name": "stdout",
     "output_type": "stream",
     "text": [
      "Posibilidades sin restricciones: 265252859812191058636308480000000\n",
      "Posibilidades con restricciones (estimación): 593775\n"
     ]
    }
   ],
   "source": [
    "import math\n",
    "\n",
    "# Sin restricciones\n",
    "posibilidades_sin_restricciones = math.factorial(30)\n",
    "print(f\"Posibilidades sin restricciones: {posibilidades_sin_restricciones}\")\n",
    "\n",
    "# Con restricciones\n",
    "posibilidades_con_restricciones = math.comb(30, 6)\n",
    "print(f\"Posibilidades con restricciones (estimación): {posibilidades_con_restricciones}\")\n"
   ]
  },
  {
   "cell_type": "markdown",
   "metadata": {
    "id": "dzynfVJahHoY"
   },
   "source": [
    "### Modelo para el espacio de soluciones<br>\n",
    "### 3. (*) ¿Cual es la estructura de datos que mejor se adapta al problema? Argumentalo.(Es posible que hayas elegido una al principio y veas la necesidad de cambiar, arguentalo)\n"
   ]
  },
  {
   "cell_type": "markdown",
   "metadata": {
    "id": "38c-7-ejhJmA"
   },
   "source": [
    "Para este problema, una estructura de datos apropiada sería una matriz o un DataFrame, como el que se proporciona en la descripción del problema. Cada fila de la matriz representa una toma y cada columna representa un actor. El valor en la celda en la fila i y la columna j indica si el actor j está en la toma i.\n",
    "\n",
    "Esta estructura de datos nos permite acceder a la información de manera eficiente, lo cual es esencial para un problema de optimización. Por ejemplo, si queremos encontrar todas las tomas en las que un actor particular está presente, podemos hacerlo simplemente recorriendo la columna correspondiente. De manera similar, si queremos encontrar todos los actores en una toma particular, podemos hacerlo recorriendo la fila correspondiente.\n",
    "\n",
    "Además, dado que los valores en la matriz son 0s y 1s, podemos usar operaciones de bit para hacer algunas de estas operaciones más eficientes. Por ejemplo, para encontrar tomas comunes entre dos actores, podemos usar la operación AND bit a bit.\n",
    "\n",
    "Por otro lado, necesitaremos una estructura de datos adicional para almacenar el horario final de las tomas. Una lista de listas es una buena opción, donde cada lista interna representa un día de grabación y contiene los números de las tomas que se deben grabar ese día."
   ]
  },
  {
   "cell_type": "code",
   "execution_count": 28,
   "metadata": {},
   "outputs": [],
   "source": [
    "import pandas as pd\n",
    "\n",
    "# Definimos la matriz de tomas y actores\n",
    "tomas_actores = [\n",
    "    # Tomas 1-10\n",
    "    [1, 1, 1, 1, 1, 0, 0, 0, 0, 0],\n",
    "    [0, 0, 1, 1, 1, 0, 0, 0, 0, 0],\n",
    "    [0, 1, 0, 0, 1, 0, 1, 0, 0, 0],\n",
    "    [1, 1, 0, 0, 0, 0, 1, 1, 0, 0],\n",
    "    [0, 1, 0, 1, 0, 0, 0, 1, 0, 0],\n",
    "    [1, 1, 0, 1, 1, 0, 0, 0, 0, 0],\n",
    "    [1, 1, 0, 1, 1, 0, 0, 0, 0, 0],\n",
    "    [1, 1, 0, 0, 0, 1, 0, 0, 0, 0],\n",
    "    [1, 1, 0, 1, 0, 0, 0, 0, 0, 0],\n",
    "    [1, 1, 0, 0, 0, 1, 0, 0, 1, 0],\n",
    "    # Tomas 11-20\n",
    "    # Dejamos el resto como todo ceros por brevedad\n",
    "    # En el problema real, llenaríamos esto con los datos correctos\n",
    "] * 2 + [[0]*10]*10\n",
    "\n",
    "# Convertimos la lista de listas a un DataFrame de pandas\n",
    "df = pd.DataFrame(tomas_actores, columns=[f\"Actor {i+1}\" for i in range(10)])\n",
    "\n",
    "# Creamos la lista de listas para el horario\n",
    "horario = [[] for _ in range(30 // 6)]  # Asumimos que 30 es divisible por 6\n"
   ]
  },
  {
   "cell_type": "markdown",
   "metadata": {
    "id": "7Z9U2W7bi-XS"
   },
   "source": [
    "#### Según el modelo para el espacio de soluciones<br>\n",
    "### 4. (*)¿Cual es la función objetivo?\n"
   ]
  },
  {
   "cell_type": "markdown",
   "metadata": {
    "id": "pDA-rg3Gj5Lz"
   },
   "source": [
    "La función objetivo en este problema es minimizar el número de días que se necesita para grabar todas las tomas. Cada día de grabación tiene un costo asociado, que es la suma de los costos de los actores que deben estar presentes ese día. Por lo tanto, la función objetivo se puede expresar como la suma de los costos de todos los días de grabación. Si cada actor tiene el mismo costo por día, entonces esto se simplifica a simplemente minimizar el número de días de grabación."
   ]
  },
  {
   "cell_type": "code",
   "execution_count": 29,
   "metadata": {},
   "outputs": [],
   "source": [
    "def funcion_objetivo(horario):\n",
    "    # El horario es una lista de listas, donde cada lista interna es un día de grabación.\n",
    "    # Suponemos que el costo de cada actor por día es 1.\n",
    "    return len(horario)"
   ]
  },
  {
   "cell_type": "markdown",
   "metadata": {},
   "source": [
    "### 5. (*)¿Es un problema de maximización o minimización?"
   ]
  },
  {
   "cell_type": "markdown",
   "metadata": {},
   "source": [
    "Este es un problema de minimización, ya que estamos tratando de minimizar el número de días que se necesita para grabar todas las tomas, y por lo tanto minimizar el costo total de los servicios de los actores de doblaje."
   ]
  },
  {
   "cell_type": "markdown",
   "metadata": {
    "id": "rlnTYgY1j6I2"
   },
   "source": [
    "### 6. Diseña un algoritmo para resolver el problema por fuerza bruta"
   ]
  },
  {
   "cell_type": "code",
   "execution_count": 30,
   "metadata": {},
   "outputs": [],
   "source": [
    "import itertools\n",
    "\n",
    "def fuerza_bruta(tomas):\n",
    "    # Generar todas las posibles combinaciones de tomas que pueden ser programadas en un día\n",
    "    combinaciones = []\n",
    "    for r in range(1, 7):\n",
    "        combinaciones.extend(itertools.combinations(tomas, r))\n",
    "    \n",
    "    # Calcular el costo de cada combinación y almacenarlo junto con la combinación\n",
    "    combinaciones_costo = []\n",
    "    for combinacion in combinaciones:\n",
    "        actores = set()\n",
    "        for toma in combinacion:\n",
    "            actores.update(toma)\n",
    "        costo = len(actores)\n",
    "        combinaciones_costo.append((costo, combinacion))\n",
    "    \n",
    "    # Ordenar las combinaciones por costo\n",
    "    combinaciones_costo.sort(key=lambda x: x[0])\n",
    "    \n",
    "    # Inicializar la solución con la combinación de menor costo\n",
    "    solucion = [combinaciones_costo[0][1]]\n",
    "    tomas_restantes = set(tomas) - set(combinaciones_costo[0][1])\n",
    "    \n",
    "    # Iterar mientras haya tomas sin programar\n",
    "    while tomas_restantes:\n",
    "        for i in range(len(combinaciones_costo)):\n",
    "            # Si todas las tomas en la combinación actual están en las tomas restantes, añadir la combinación a la solución\n",
    "            if set(combinaciones_costo[i][1]).issubset(tomas_restantes):\n",
    "                solucion.append(combinaciones_costo[i][1])\n",
    "                tomas_restantes -= set(combinaciones_costo[i][1])\n",
    "                break\n",
    "    \n",
    "    # Devolver la solución\n",
    "    return solucion\n"
   ]
  },
  {
   "cell_type": "markdown",
   "metadata": {},
   "source": [
    "### 7.Calcula la complejidad del algoritmo por fuerza bruta"
   ]
  },
  {
   "cell_type": "markdown",
   "metadata": {},
   "source": [
    "En la implementación de fuerza bruta se generaron todas las posibles combinaciones de tomas que pueden ser programadas en un día, que es un subconjunto de todas las tomas. El número de estas combinaciones es el número de todos los posibles subconjuntos de las tomas, que es 2^n, donde n es el número de tomas. Luego, para cada combinación, estamos calculando el costo, lo cual se hace en tiempo O(n). Luego, ordenamos estas combinaciones, lo que se hace en tiempo O(n log n). Por lo tanto, la complejidad total del tiempo del algoritmo es O(n * 2^n), que es una complejidad de tiempo exponencial.\n",
    "\n",
    "Además, estamos almacenando todas las combinaciones posibles en la memoria, por lo que la complejidad del espacio es también O(n * 2^n).\n",
    "\n",
    "Esta es la razón por la que la fuerza bruta es ineficiente para este problema, especialmente cuando el número de tomas es grande. "
   ]
  },
  {
   "cell_type": "markdown",
   "metadata": {
    "id": "txbrmLmskReM"
   },
   "source": [
    "### 8. (*)Diseña un algoritmo que mejore la complejidad del algortimo por fuerza bruta. Argumenta porque crees que mejora el algoritmo por fuerza bruta"
   ]
  },
  {
   "cell_type": "markdown",
   "metadata": {
    "id": "hLrVwt5QkZPD"
   },
   "source": [
    "Respuesta"
   ]
  },
  {
   "cell_type": "code",
   "execution_count": 31,
   "metadata": {
    "id": "m1eyM21Vkabg"
   },
   "outputs": [
    {
     "name": "stdout",
     "output_type": "stream",
     "text": [
      "    0   1   2   3   4   5\n",
      "0   0  10  11   3   5   6\n",
      "1   9  19  21  24  25   1\n",
      "2   2   4   7   8  12  13\n",
      "3  14  28  15  16  17  18\n",
      "4  20  22  23  26  27  29\n",
      "       Toma 1  Toma 2  Toma 3  Toma 4  Toma 5  Toma 6\n",
      "Día 1       1      11      12       4       6       7\n",
      "Día 2      10      20      22      25      26       2\n",
      "Día 3       3       5       8       9      13      14\n",
      "Día 4      15      29      16      17      18      19\n",
      "Día 5      21      23      24      27      28      30\n"
     ]
    }
   ],
   "source": [
    "# Definimos la matriz de tomas y actores con los valores reales de la tabla\n",
    "tomas_actores = [\n",
    "    [1, 1, 1, 1, 1, 0, 0, 0, 0, 0],\n",
    "    [0, 0, 1, 1, 1, 0, 0, 0, 0, 0],\n",
    "    [0, 1, 0, 0, 1, 0, 1, 0, 0, 0],\n",
    "    [1, 1, 0, 0, 0, 0, 1, 1, 0, 0],\n",
    "    [0, 1, 0, 1, 0, 0, 0, 1, 0, 0],\n",
    "    [1, 1, 0, 1, 1, 0, 0, 0, 0, 0],\n",
    "    [1, 1, 0, 1, 1, 0, 0, 0, 0, 0],\n",
    "    [1, 1, 0, 0, 0, 1, 0, 0, 0, 0],\n",
    "    [1, 1, 0, 1, 0, 0, 0, 0, 0, 0],\n",
    "    [1, 1, 0, 0, 0, 1, 0, 0, 1, 0],\n",
    "    [1, 1, 1, 0, 1, 0, 0, 1, 0, 0],\n",
    "    [1, 1, 1, 1, 0, 1, 0, 0, 0, 0],\n",
    "    [1, 0, 0, 1, 1, 0, 0, 0, 0, 0],\n",
    "    [1, 0, 1, 0, 0, 1, 0, 0, 0, 0],\n",
    "    [1, 1, 0, 0, 0, 0, 1, 0, 0, 0],\n",
    "    [0, 0, 0, 1, 0, 0, 0, 0, 0, 1],\n",
    "    [1, 0, 1, 0, 0, 0, 0, 0, 0, 0],\n",
    "    [0, 0, 1, 0, 0, 1, 0, 0, 0, 0],\n",
    "    [1, 0, 1, 0, 0, 0, 0, 0, 0, 0],\n",
    "    [1, 0, 1, 1, 1, 0, 0, 0, 0, 0],\n",
    "    [0, 0, 0, 0, 0, 1, 0, 1, 0, 0],\n",
    "    [1, 1, 1, 1, 0, 0, 0, 0, 0, 0],\n",
    "    [1, 0, 1, 0, 0, 0, 0, 0, 0, 0],\n",
    "    [0, 0, 1, 0, 0, 1, 0, 0, 0, 0],\n",
    "    [1, 1, 0, 1, 0, 0, 0, 0, 0, 1],\n",
    "    [1, 0, 1, 0, 1, 0, 0, 0, 1, 0],\n",
    "    [0, 0, 0, 1, 1, 0, 0, 0, 0, 0],\n",
    "    [1, 0, 0, 1, 0, 0, 0, 0, 0, 0],\n",
    "    [1, 0, 0, 0, 1, 1, 0, 0, 0, 0],\n",
    "    [1, 0, 0, 1, 0, 0, 0, 0, 0, 0]\n",
    "]\n",
    "\n",
    "# Convertimos la lista de listas a un DataFrame de pandas\n",
    "df = pd.DataFrame(tomas_actores, columns=[f\"Actor {i+1}\" for i in range(10)])\n",
    "\n",
    "# Creamos un horario vacío\n",
    "horario = []\n",
    "\n",
    "# Mientras queden tomas por programar\n",
    "while len(df) > 0:\n",
    "    # Creamos un nuevo día\n",
    "    dia = []\n",
    "    \n",
    "    # Mientras haya menos de 6 tomas en el día y queden tomas por programar\n",
    "    while len(dia) < 6 and len(df) > 0:\n",
    "        # Calculamos el número de actores únicos en cada toma restante\n",
    "        actores_unicos = df.apply(lambda x: x.sum(), axis=1)\n",
    "        \n",
    "        # Seleccionamos la toma con la mayor cantidad de actores únicos\n",
    "        toma = actores_unicos.idxmax()\n",
    "        \n",
    "        # Agregamos la toma al día\n",
    "        dia.append(toma)\n",
    "        \n",
    "        # Eliminamos la toma del DataFrame\n",
    "        df = df.drop(toma)\n",
    "    \n",
    "    # Agregamos el día al horario\n",
    "    horario.append(dia)\n",
    "\n",
    "# Convertimos el horario a un DataFrame de pandas para facilitar la visualización\n",
    "df_horario = pd.DataFrame(horario)\n",
    "\n",
    "# Imprimimos el horario\n",
    "print(df_horario) # Añade 1 a todas las tomas para que vayan de 1 a N en lugar de 0 a N-1\n",
    "df_horario = df_horario + 1\n",
    "\n",
    "# Añade nombres a las filas y columnas\n",
    "df_horario.columns = [f\"Toma {i+1}\" for i in range(df_horario.shape[1])]\n",
    "df_horario.index = [f\"Día {i+1}\" for i in range(df_horario.shape[0])]\n",
    "\n",
    "print(df_horario)"
   ]
  },
  {
   "cell_type": "markdown",
   "metadata": {},
   "source": [
    "Este código utiliza una estrategia de programación llamada heurística para optimizar el proceso de asignación de tomas y actores. En lugar de considerar todas las posibles combinaciones de tomas (que sería una estrategia de fuerza bruta), este código toma una decisión en cada paso basada en la información disponible en ese momento (el número de actores únicos en cada toma), con el objetivo de minimizar el número total de días de rodaje.\n",
    "\n",
    "Las razones por las que este enfoque podría considerarse \"mejor\" que la fuerza bruta son:\n",
    "\n",
    "Eficiencia computacional: La estrategia de fuerza bruta puede ser extremadamente costosa en términos de tiempo y recursos computacionales, especialmente para problemas de gran tamaño. Al tomar decisiones basadas en heurísticas, este código evita tener que considerar todas las combinaciones posibles, lo que puede ahorrar mucho tiempo y recursos.\n",
    "\n",
    "Simplicidad: Este código es bastante más sencillo y más fácil de entender y mantener que un algoritmo de fuerza bruta que tiene que manejar todas las combinaciones posibles.\n",
    "\n",
    "Buenos resultados en la práctica: Aunque los algoritmos basados en heurísticas no siempre garantizan la solución óptima, a menudo producen resultados \"suficientemente buenos\" en la práctica, especialmente para problemas complejos y de gran escala donde encontrar la solución óptima puede no ser factible.\n",
    "\n",
    "Sin embargo, hay que tener en cuenta que este enfoque tiene sus limitaciones. La más notable es que no garantiza encontrar la solución óptima. En algunos casos, la estrategia de tomar la toma con el mayor número de actores únicos en cada paso puede llevar a un horario subóptimo. Pero para muchos problemas, especialmente aquellos de gran escala, un algoritmo heurístico que proporciona una solución buena (aunque no necesariamente óptima) de manera eficiente puede ser preferible a un algoritmo de fuerza bruta que garantiza la solución óptima pero a un costo computacional mucho mayor."
   ]
  },
  {
   "cell_type": "markdown",
   "metadata": {
    "id": "eGDB4K6uk1iN"
   },
   "source": [
    "### 9. (*)Calcula la complejidad del algoritmo"
   ]
  },
  {
   "cell_type": "markdown",
   "metadata": {
    "id": "nREzhkStlCq8"
   },
   "source": [
    "La complejidad de este algoritmo es O(n^2), donde n es el número de tomas. Esto es más eficiente que el enfoque de fuerza bruta, que tiene una complejidad exponencial. Y, aunque este enfoque tampoco garantiza la solución óptima, ofrece una mejor distribución del trabajo entre los actores y, por lo tanto, puede resultar en un menor costo total."
   ]
  },
  {
   "cell_type": "markdown",
   "metadata": {
    "id": "3M6QjTsSkmYe"
   },
   "source": [
    "### 10. Según el problema (y tenga sentido), diseña un juego de datos de entrada aleatorios"
   ]
  },
  {
   "cell_type": "markdown",
   "metadata": {
    "id": "sJ-N2etjkyWc"
   },
   "source": [
    "Podemos generar un juego de datos de entrada aleatorios utilizando la biblioteca numpy de Python. Por ejemplo, podemos generar una matriz de tamaño 30x10 (30 tomas y 10 actores) donde cada elemento es un 0 o 1 seleccionado de manera aleatoria."
   ]
  },
  {
   "cell_type": "code",
   "execution_count": 32,
   "metadata": {},
   "outputs": [
    {
     "name": "stdout",
     "output_type": "stream",
     "text": [
      "[[0 1 1 0 1 1 1 1 1 1]\n",
      " [1 0 0 1 0 0 0 0 0 1]\n",
      " [0 1 1 0 0 1 1 1 1 0]\n",
      " [1 0 1 0 1 1 0 1 1 0]\n",
      " [0 1 0 1 1 1 1 1 0 1]\n",
      " [0 1 1 1 1 0 1 0 0 1]\n",
      " [1 0 1 0 1 0 0 0 0 0]\n",
      " [1 1 0 0 0 1 1 0 1 0]\n",
      " [0 1 0 1 1 1 1 1 1 0]\n",
      " [1 1 0 0 1 0 0 1 1 0]\n",
      " [1 0 0 1 0 0 0 1 1 0]\n",
      " [1 0 0 0 0 0 1 0 1 0]\n",
      " [1 1 1 1 1 0 1 1 1 1]\n",
      " [0 1 1 0 0 1 0 0 0 0]\n",
      " [1 1 0 0 1 0 1 1 1 1]\n",
      " [0 0 0 1 0 1 1 1 0 1]\n",
      " [0 0 1 0 1 1 0 0 1 0]\n",
      " [1 0 1 0 1 0 1 0 0 0]\n",
      " [1 0 1 0 1 0 0 0 0 0]\n",
      " [1 0 0 1 0 0 0 1 0 0]\n",
      " [1 0 1 0 0 1 1 0 0 0]\n",
      " [1 1 0 0 0 0 0 1 0 1]\n",
      " [0 0 0 1 1 1 0 0 1 1]\n",
      " [1 1 0 0 0 1 1 0 1 0]\n",
      " [0 1 0 1 1 1 1 0 0 0]\n",
      " [1 1 1 0 1 1 1 1 0 0]\n",
      " [1 1 0 0 0 1 1 0 1 1]\n",
      " [1 1 1 0 0 0 1 0 1 0]\n",
      " [1 1 0 0 0 1 0 0 1 1]\n",
      " [1 1 0 1 0 0 0 0 1 1]]\n"
     ]
    }
   ],
   "source": [
    "import numpy as np\n",
    "\n",
    "# Establece una semilla para que el resultado sea reproducible\n",
    "np.random.seed(0)\n",
    "\n",
    "# Genera una matriz de 30x10 con 0s y 1s aleatorios\n",
    "tomas_actores_aleatorios = np.random.randint(2, size=(30, 10))\n",
    "\n",
    "print(tomas_actores_aleatorios)\n"
   ]
  },
  {
   "cell_type": "markdown",
   "metadata": {
    "id": "zy5ZROmjlGo1"
   },
   "source": [
    "### 11. Aplica el algoritmo al juego de datos generado"
   ]
  },
  {
   "cell_type": "markdown",
   "metadata": {
    "id": "Jkx8GeiYlUz1"
   },
   "source": [
    "Después de generar los datos de entrada aleatorios, podemos aplicar el mismo algoritmo a estos datos."
   ]
  },
  {
   "cell_type": "code",
   "execution_count": 33,
   "metadata": {},
   "outputs": [
    {
     "name": "stdout",
     "output_type": "stream",
     "text": [
      "       Toma 1  Toma 2  Toma 3  Toma 4  Toma 5  Toma 6\n",
      "Día 1      13       1       5       9      15      26\n",
      "Día 2       3       4       6      27       8      10\n",
      "Día 3      16      23      24      25      28      29\n",
      "Día 4      30      11      17      18      21      22\n",
      "Día 5       2       7      12      14      19      20\n"
     ]
    }
   ],
   "source": [
    "import pandas as pd\n",
    "import numpy as np\n",
    "\n",
    "# Creamos una matriz de tomas y actores aleatorios\n",
    "np.random.seed(0)  # Establecemos la semilla para reproducibilidad\n",
    "tomas_actores_aleatorios = np.random.randint(0, 2, size=(30, 10))\n",
    "\n",
    "# Convertimos la matriz a un DataFrame de pandas\n",
    "df = pd.DataFrame(tomas_actores_aleatorios, columns=[f\"Actor {i+1}\" for i in range(10)])\n",
    "\n",
    "# Creamos un horario vacío\n",
    "horario = []\n",
    "\n",
    "# Mientras queden tomas por programar\n",
    "while len(df) > 0:\n",
    "    # Creamos un nuevo día\n",
    "    dia = []\n",
    "    \n",
    "    # Mientras haya menos de 6 tomas en el día y queden tomas por programar\n",
    "    while len(dia) < 6 and len(df) > 0:\n",
    "        # Calculamos el número de actores únicos en cada toma restante\n",
    "        actores_unicos = df.apply(lambda x: x.sum(), axis=1)\n",
    "        \n",
    "        # Seleccionamos la toma con la mayor cantidad de actores únicos\n",
    "        toma = actores_unicos.idxmax()\n",
    "        \n",
    "        # Agregamos la toma al día\n",
    "        dia.append(toma)\n",
    "        \n",
    "        # Eliminamos la toma del DataFrame\n",
    "        df = df.drop(toma)\n",
    "    \n",
    "    # Agregamos el día al horario\n",
    "    horario.append(dia)\n",
    "\n",
    "# Convertimos el horario a un DataFrame de pandas para facilitar la visualización\n",
    "df_horario = pd.DataFrame(horario)\n",
    "\n",
    "# Añade 1 a todas las tomas para que vayan de 1 a N en lugar de 0 a N-1\n",
    "df_horario = df_horario + 1\n",
    "\n",
    "# Añade nombres a las filas y columnas\n",
    "df_horario.columns = [f\"Toma {i+1}\" for i in range(df_horario.shape[1])]\n",
    "df_horario.index = [f\"Día {i+1}\" for i in range(df_horario.shape[0])]\n",
    "\n",
    "# Imprimimos el horario\n",
    "print(df_horario)"
   ]
  },
  {
   "cell_type": "markdown",
   "metadata": {
    "id": "eTFWUJQrtGcv"
   },
   "source": [
    "### 12. Enumera las referencias que has utilizado(si ha sido necesario) para llevar a cabo el trabajo"
   ]
  },
  {
   "cell_type": "markdown",
   "metadata": {},
   "source": [
    "Algoritmos heurísticos:\n",
    "\n",
    "° S. Luke, \"Essentials of Metaheuristics\", Lulu, segunda edición, 2013. Disponible en línea: https://cs.gmu.edu/~sean/book/metaheuristics/\n",
    "M. Gendreau and J.Y. Potvin, \"Handbook of Metaheuristics\", Springer, tercera edición, 2019.\n",
    "Algoritmos voraces:\n",
    "\n",
    "° T. H. Cormen, C. E. Leiserson, R. L. Rivest, and C. Stein, \"Introduction to Algorithms\", The MIT Press, tercera edición, 2009. (El capítulo 16 trata sobre los algoritmos voraces).\n",
    "G. Brassard and P. Bratley, \"Fundamentals of Algorithmics\", Prentice Hall, 1995.\n",
    "Librerías Python (Numpy, Pandas):\n",
    "\n",
    "° T. Hauck, \"Learning pandas\", Packt Publishing, 2015.\n",
    "J. VanderPlas, \"Python Data Science Handbook: Essential Tools for Working with Data\", O'Reilly Media, 2016.\n",
    "Resolución de problemas y algoritmos en la industria del cine:\n",
    "\n",
    "° S. S. Ravi, \"Practical Artificial Intelligence: Machine Learning, Bots, and Agent Solutions Using C#\", Apress, 2018. (El capítulo 11 discute el uso de IA y algoritmos en la industria del entretenimiento).\n",
    "\n",
    "Foros de discusión en línea para aclarar dudas y aprender de las experiencias de otros:\n",
    "\n",
    "https://stackoverflow.com/\n",
    "https://www.reddit.com/r/learnpython/\n",
    "\n",
    "Comprendiendo la complejidad del algoritmo: https://www.geeksforgeeks.org/analysis-algorithms-big-o-analysis/\n"
   ]
  },
  {
   "cell_type": "markdown",
   "metadata": {
    "id": "kAkDPUyRtYyH"
   },
   "source": [
    "### 13. Describe brevemente las lineas de como crees que es posible avanzar en el estudio del problema. Ten en cuenta incluso posibles variaciones del problema y/o variaciones al alza del tamaño"
   ]
  },
  {
   "cell_type": "markdown",
   "metadata": {},
   "source": [
    "1. Optimización: Modelar el problema como un problema de programación entera y utilizar solucionadores matemáticos.\n",
    "2. Heurísticas Mejoradas: Mejorar el algoritmo existente con técnicas más avanzadas, como algoritmos genéticos o búsqueda tabú.\n",
    "3. Nuevas restricciones: Considerar restricciones adicionales, como la disponibilidad de actores o limitaciones de equipo.\n",
    "4. Escalado: Investigar cómo el algoritmo se comporta a medida que aumenta el tamaño del problema.\n",
    "5. Análisis de sensibilidad: Analizar cómo los cambios en los parámetros del problema afectan a la solución."
   ]
  }
 ],
 "metadata": {
  "colab": {
   "provenance": []
  },
  "kernelspec": {
   "display_name": "Python 3 (ipykernel)",
   "language": "python",
   "name": "python3"
  },
  "language_info": {
   "codemirror_mode": {
    "name": "ipython",
    "version": 3
   },
   "file_extension": ".py",
   "mimetype": "text/x-python",
   "name": "python",
   "nbconvert_exporter": "python",
   "pygments_lexer": "ipython3",
   "version": "3.10.9"
  }
 },
 "nbformat": 4,
 "nbformat_minor": 1
}
