{
 "cells": [
  {
   "cell_type": "markdown",
   "id": "60b5e3b0",
   "metadata": {
    "id": "60b5e3b0"
   },
   "source": [
    "## AG2 - ACTIVIDAD GUIADA 2\n",
    "### Asignatura: Algoritmos de Optimización\n",
    "### Laura Katherine Henao González\n",
    "\n",
    "Repositorio GitHub:"
   ]
  },
  {
   "cell_type": "code",
   "execution_count": 17,
   "id": "f0f022a0",
   "metadata": {
    "colab": {
     "base_uri": "https://localhost:8080/"
    },
    "id": "f0f022a0",
    "outputId": "21f1bf7d-4d54-4420-b9df-7ffe229413d3"
   },
   "outputs": [
    {
     "name": "stdout",
     "output_type": "stream",
     "text": [
      "Requirement already satisfied: requests in /usr/local/lib/python3.10/dist-packages (2.27.1)\n",
      "Requirement already satisfied: urllib3<1.27,>=1.21.1 in /usr/local/lib/python3.10/dist-packages (from requests) (1.26.16)\n",
      "Requirement already satisfied: certifi>=2017.4.17 in /usr/local/lib/python3.10/dist-packages (from requests) (2023.5.7)\n",
      "Requirement already satisfied: charset-normalizer~=2.0.0 in /usr/local/lib/python3.10/dist-packages (from requests) (2.0.12)\n",
      "Requirement already satisfied: idna<4,>=2.5 in /usr/local/lib/python3.10/dist-packages (from requests) (3.4)\n",
      "Requirement already satisfied: tsplib95 in /usr/local/lib/python3.10/dist-packages (0.7.1)\n",
      "Requirement already satisfied: Click>=6.0 in /usr/local/lib/python3.10/dist-packages (from tsplib95) (8.1.4)\n",
      "Requirement already satisfied: Deprecated~=1.2.9 in /usr/local/lib/python3.10/dist-packages (from tsplib95) (1.2.14)\n",
      "Requirement already satisfied: networkx~=2.1 in /usr/local/lib/python3.10/dist-packages (from tsplib95) (2.8.8)\n",
      "Requirement already satisfied: tabulate~=0.8.7 in /usr/local/lib/python3.10/dist-packages (from tsplib95) (0.8.10)\n",
      "Requirement already satisfied: wrapt<2,>=1.10 in /usr/local/lib/python3.10/dist-packages (from Deprecated~=1.2.9->tsplib95) (1.14.1)\n"
     ]
    }
   ],
   "source": [
    "!pip install requests\n",
    "!pip install tsplib95"
   ]
  },
  {
   "cell_type": "markdown",
   "id": "sEZycHIoB3mZ",
   "metadata": {
    "id": "sEZycHIoB3mZ"
   },
   "source": [
    "Carga de datos del problema"
   ]
  },
  {
   "cell_type": "code",
   "execution_count": 19,
   "id": "c514fd52",
   "metadata": {
    "id": "c514fd52"
   },
   "outputs": [],
   "source": [
    "import urllib.request #Hacer llamadas http a paginas de la red\n",
    "import tsplib95       #Modulo para las instancias del problema del TSP\n",
    "import math           #Modulo de funciones matematicas. Se usa para exp\n",
    "import random                     #Para generar valores aleatorios\n",
    "\n",
    "#Descargamos el fichero de datos(Matriz de distancias)\n",
    "file = \"swiss42.tsp\" ;\n",
    "urllib.request.urlretrieve(\"http://comopt.ifi.uni-heidelberg.de/software/TSPLIB95/tsp/swiss42.tsp.gz\", file + '.gz')\n",
    "!gzip -d swiss42.tsp.gz     #Descomprimir el fichero de datos\n",
    "\n"
   ]
  },
  {
   "cell_type": "code",
   "execution_count": 20,
   "id": "_jOuJv-cBEbl",
   "metadata": {
    "id": "_jOuJv-cBEbl"
   },
   "outputs": [],
   "source": [
    "#Carga de datos y generación de objeto problem\n",
    "###############################################################################\n",
    "problem = tsplib95.load(file)\n",
    "\n",
    "#Nodos\n",
    "Nodos = list(problem.get_nodes())\n",
    "\n",
    "#Aristas\n",
    "Aristas = list(problem.get_edges())"
   ]
  },
  {
   "cell_type": "code",
   "execution_count": 21,
   "id": "j8GFNOnGBuuq",
   "metadata": {
    "colab": {
     "base_uri": "https://localhost:8080/"
    },
    "id": "j8GFNOnGBuuq",
    "outputId": "f509251e-84bb-4890-be97-72a3f9ac55aa"
   },
   "outputs": [
    {
     "data": {
      "text/plain": [
       "15"
      ]
     },
     "execution_count": 21,
     "metadata": {},
     "output_type": "execute_result"
    }
   ],
   "source": [
    "#Probamos algunas funciones del objeto problem\n",
    "\n",
    "#Distancia entre nodos\n",
    "problem.get_weight(0, 1)\n",
    "\n",
    "#Todas las funciones\n",
    "#Documentación: https://tsplib95.readthedocs.io/en/v0.6.1/modules.html\n",
    "\n",
    "#dir(problem)"
   ]
  },
  {
   "cell_type": "markdown",
   "id": "APCOi0haB9jx",
   "metadata": {
    "id": "APCOi0haB9jx"
   },
   "source": [
    "Funciones básicas"
   ]
  },
  {
   "cell_type": "code",
   "execution_count": 22,
   "id": "6XfcgI4JB_uy",
   "metadata": {
    "id": "6XfcgI4JB_uy"
   },
   "outputs": [],
   "source": [
    "#Funcionas basicas\n",
    "###############################################################################\n",
    "\n",
    "#Se genera una solucion aleatoria con comienzo en en el nodo 0\n",
    "def crear_solucion(Nodos):\n",
    "  solucion = [Nodos[0]]\n",
    "  for n in Nodos[1:]:\n",
    "    solucion = solucion + [random.choice(list(set(Nodos) - set({Nodos[0]}) - set(solucion)))]\n",
    "  return solucion\n",
    "\n",
    "#Devuelve la distancia entre dos nodos\n",
    "def distancia(a,b, problem):\n",
    "  return problem.get_weight(a,b)\n",
    "\n",
    "#Devuelve la distancia total de una trayectoria/solucion\n",
    "def distancia_total(solucion, problem):\n",
    "  distancia_total = 0\n",
    "  for i in range(len(solucion)-1):\n",
    "    distancia_total += distancia(solucion[i] ,solucion[i+1] ,  problem)\n",
    "  return distancia_total + distancia(solucion[len(solucion)-1] ,solucion[0], problem)"
   ]
  },
  {
   "cell_type": "markdown",
   "id": "2HXQHD0_D02T",
   "metadata": {
    "id": "2HXQHD0_D02T"
   },
   "source": [
    "Búsqueda aleatoria"
   ]
  },
  {
   "cell_type": "code",
   "execution_count": 23,
   "id": "w6jtipkFDzqN",
   "metadata": {
    "colab": {
     "base_uri": "https://localhost:8080/"
    },
    "id": "w6jtipkFDzqN",
    "outputId": "b963943e-51e3-45ca-fdef-a18d635bb223"
   },
   "outputs": [
    {
     "name": "stdout",
     "output_type": "stream",
     "text": [
      "Mejor solución: [0, 5, 27, 35, 21, 9, 13, 36, 6, 33, 3, 23, 40, 24, 30, 26, 11, 12, 8, 34, 20, 7, 16, 18, 10, 17, 37, 14, 15, 19, 4, 32, 38, 31, 29, 39, 41, 22, 1, 28, 25, 2]\n",
      "Distancia     : 3777\n"
     ]
    }
   ],
   "source": [
    "\n",
    "def busqueda_aleatoria(problem, N):\n",
    "  #N es el numero de iteraciones\n",
    "  Nodos = list(problem.get_nodes())\n",
    "\n",
    "  mejor_solucion = []\n",
    "  #mejor_distancia = 10e100                         #Inicializamos con un valor alto\n",
    "  mejor_distancia = float('inf')                    #Inicializamos con un valor alto\n",
    "\n",
    "  for i in range(N):                                #Criterio de parada: repetir N veces pero podemos incluir otros\n",
    "    solucion = crear_solucion(Nodos)                #Genera una solucion aleatoria\n",
    "    distancia = distancia_total(solucion, problem)  #Calcula el valor objetivo(distancia total)\n",
    "\n",
    "    if distancia < mejor_distancia:                 #Compara con la mejor obtenida hasta ahora\n",
    "      mejor_solucion = solucion\n",
    "      mejor_distancia = distancia\n",
    "\n",
    "\n",
    "  print(\"Mejor solución:\" , mejor_solucion)\n",
    "  print(\"Distancia     :\" , mejor_distancia)\n",
    "  return mejor_solucion\n",
    "\n",
    "\n",
    "#Busqueda aleatoria con 5000 iteraciones\n",
    "solucion = busqueda_aleatoria(problem, 10000)"
   ]
  },
  {
   "cell_type": "markdown",
   "id": "nJmqejkbEQLY",
   "metadata": {
    "id": "nJmqejkbEQLY"
   },
   "source": [
    "Busqueda local"
   ]
  },
  {
   "cell_type": "code",
   "execution_count": 24,
   "id": "kKQNunHwERPC",
   "metadata": {
    "colab": {
     "base_uri": "https://localhost:8080/"
    },
    "id": "kKQNunHwERPC",
    "outputId": "911cea53-ddf4-4a90-de1d-c7b594be78aa"
   },
   "outputs": [
    {
     "name": "stdout",
     "output_type": "stream",
     "text": [
      "Distancia Solucion Incial: 3777\n",
      "Distancia Mejor Solucion Local: 3412\n"
     ]
    }
   ],
   "source": [
    "def genera_vecina(solucion):\n",
    "  #Generador de soluciones vecinas: 2-opt (intercambiar 2 nodos) Si hay N nodos se generan (N-1)x(N-2)/2 soluciones\n",
    "  #Se puede modificar para aplicar otros generadores distintos que 2-opt\n",
    "  #print(solucion)\n",
    "  mejor_solucion = []\n",
    "  mejor_distancia = 10e100\n",
    "  for i in range(1,len(solucion)-1):          #Recorremos todos los nodos en bucle doble para evaluar todos los intercambios 2-opt\n",
    "    for j in range(i+1, len(solucion)):\n",
    "\n",
    "      #Se genera una nueva solución intercambiando los dos nodos i,j:\n",
    "      #  (usamos el operador + que para listas en python las concatena) : ej.: [1,2] + [3] = [1,2,3]\n",
    "      vecina = solucion[:i] + [solucion[j]] + solucion[i+1:j] + [solucion[i]] + solucion[j+1:]\n",
    "\n",
    "      #Se evalua la nueva solución ...\n",
    "      distancia_vecina = distancia_total(vecina, problem)\n",
    "\n",
    "      #... para guardarla si mejora las anteriores\n",
    "      if distancia_vecina <= mejor_distancia:\n",
    "        mejor_distancia = distancia_vecina\n",
    "        mejor_solucion = vecina\n",
    "  return mejor_solucion\n",
    "\n",
    "\n",
    "#solucion = [1, 47, 13, 41, 40, 19, 42, 44, 37, 5, 22, 28, 3, 2, 29, 21, 50, 34, 30, 9, 16, 11, 38, 49, 10, 39, 33, 45, 15, 24, 43, 26, 31, 36, 35, 20, 8, 7, 23, 48, 27, 12, 17, 4, 18, 25, 14, 6, 51, 46, 32]\n",
    "print(\"Distancia Solucion Incial:\" , distancia_total(solucion, problem))\n",
    "\n",
    "\n",
    "nueva_solucion = genera_vecina(solucion)\n",
    "print(\"Distancia Mejor Solucion Local:\", distancia_total(nueva_solucion, problem))"
   ]
  },
  {
   "cell_type": "code",
   "execution_count": 25,
   "id": "UGVJqVzuEgq7",
   "metadata": {
    "colab": {
     "base_uri": "https://localhost:8080/"
    },
    "id": "UGVJqVzuEgq7",
    "outputId": "00f7ed36-e8e0-4c5f-d2e1-ad4bd5b9dc10"
   },
   "outputs": [
    {
     "name": "stdout",
     "output_type": "stream",
     "text": [
      "En la iteracion  36 , la mejor solución encontrada es: [0, 1, 7, 14, 16, 15, 37, 17, 36, 35, 31, 9, 23, 41, 18, 26, 5, 19, 13, 12, 11, 25, 10, 8, 2, 27, 38, 22, 24, 40, 21, 39, 29, 28, 30, 34, 33, 20, 32, 3, 4, 6]\n",
      "Distancia     : 1715\n"
     ]
    }
   ],
   "source": [
    "#Busqueda Local:\n",
    "#  - Sobre el operador de vecindad 2-opt(funcion genera_vecina)\n",
    "#  - Sin criterio de parada, se para cuando no es posible mejorar.\n",
    "def busqueda_local(problem):\n",
    "  mejor_solucion = []\n",
    "\n",
    "  #Generar una solucion inicial de referencia(aleatoria)\n",
    "  solucion_referencia = crear_solucion(Nodos)\n",
    "  mejor_distancia = distancia_total(solucion_referencia, problem)\n",
    "\n",
    "  iteracion=0             #Un contador para saber las iteraciones que hacemos\n",
    "  while(1):\n",
    "    iteracion +=1         #Incrementamos el contador\n",
    "    #print('#',iteracion)\n",
    "\n",
    "    #Obtenemos la mejor vecina ...\n",
    "    vecina = genera_vecina(solucion_referencia)\n",
    "\n",
    "    #... y la evaluamos para ver si mejoramos respecto a lo encontrado hasta el momento\n",
    "    distancia_vecina = distancia_total(vecina, problem)\n",
    "\n",
    "    #Si no mejoramos hay que terminar. Hemos llegado a un minimo local(según nuestro operador de vencindad 2-opt)\n",
    "    if distancia_vecina < mejor_distancia:\n",
    "      #mejor_solucion = copy.deepcopy(vecina)   #Con copia profunda. Las copias en python son por referencia\n",
    "      mejor_solucion = vecina                   #Guarda la mejor solución encontrada\n",
    "      mejor_distancia = distancia_vecina\n",
    "\n",
    "    else:\n",
    "      print(\"En la iteracion \", iteracion, \", la mejor solución encontrada es:\" , mejor_solucion)\n",
    "      print(\"Distancia     :\" , mejor_distancia)\n",
    "      return mejor_solucion\n",
    "\n",
    "    solucion_referencia = vecina\n",
    "\n",
    "\n",
    "sol = busqueda_local(problem )"
   ]
  },
  {
   "cell_type": "markdown",
   "id": "erHvVP3ZKFJw",
   "metadata": {
    "id": "erHvVP3ZKFJw"
   },
   "source": [
    "Multi arranque"
   ]
  },
  {
   "cell_type": "code",
   "execution_count": 26,
   "id": "wsjLs9R-KHZb",
   "metadata": {
    "colab": {
     "base_uri": "https://localhost:8080/"
    },
    "id": "wsjLs9R-KHZb",
    "outputId": "37d2005d-8f24-41f5-95b4-6bf9fa3d8a64"
   },
   "outputs": [
    {
     "name": "stdout",
     "output_type": "stream",
     "text": [
      "En el intento 1 , la mejor solución encontrada es: [0, 7, 16, 14, 9, 41, 23, 40, 24, 21, 39, 34, 33, 38, 22, 30, 29, 28, 27, 3, 2, 8, 10, 25, 11, 12, 18, 26, 6, 1, 31, 17, 37, 15, 36, 35, 20, 32, 4, 5, 13, 19]\n",
      "Distancia     : 1872\n",
      "En el intento 2 , la mejor solución encontrada es: [0, 7, 16, 14, 9, 41, 23, 40, 24, 21, 39, 34, 33, 38, 22, 30, 29, 28, 27, 3, 2, 8, 10, 25, 11, 12, 18, 26, 6, 1, 31, 17, 37, 15, 36, 35, 20, 32, 4, 5, 13, 19]\n",
      "Distancia     : 1872\n",
      "En el intento 3 , la mejor solución encontrada es: [0, 7, 16, 14, 9, 41, 23, 40, 24, 21, 39, 34, 33, 38, 22, 30, 29, 28, 27, 3, 2, 8, 10, 25, 11, 12, 18, 26, 6, 1, 31, 17, 37, 15, 36, 35, 20, 32, 4, 5, 13, 19]\n",
      "Distancia     : 1872\n",
      "En el intento 4 , la mejor solución encontrada es: [0, 7, 16, 14, 9, 41, 23, 40, 24, 21, 39, 34, 33, 38, 22, 30, 29, 28, 27, 3, 2, 8, 10, 25, 11, 12, 18, 26, 6, 1, 31, 17, 37, 15, 36, 35, 20, 32, 4, 5, 13, 19]\n",
      "Distancia     : 1872\n",
      "En el intento 5 , la mejor solución encontrada es: [0, 7, 16, 14, 9, 41, 23, 40, 24, 21, 39, 34, 33, 38, 22, 30, 29, 28, 27, 3, 2, 8, 10, 25, 11, 12, 18, 26, 6, 1, 31, 17, 37, 15, 36, 35, 20, 32, 4, 5, 13, 19]\n",
      "Distancia     : 1872\n",
      "En el intento 6 , la mejor solución encontrada es: [0, 7, 16, 14, 9, 41, 23, 40, 24, 21, 39, 34, 33, 38, 22, 30, 29, 28, 27, 3, 2, 8, 10, 25, 11, 12, 18, 26, 6, 1, 31, 17, 37, 15, 36, 35, 20, 32, 4, 5, 13, 19]\n",
      "Distancia     : 1872\n",
      "En el intento 7 , la mejor solución encontrada es: [0, 7, 16, 14, 9, 41, 23, 40, 24, 21, 39, 34, 33, 38, 22, 30, 29, 28, 27, 3, 2, 8, 10, 25, 11, 12, 18, 26, 6, 1, 31, 17, 37, 15, 36, 35, 20, 32, 4, 5, 13, 19]\n",
      "Distancia     : 1872\n",
      "En el intento 8 , la mejor solución encontrada es: [0, 7, 16, 14, 9, 41, 23, 40, 24, 21, 39, 34, 33, 38, 22, 30, 29, 28, 27, 3, 2, 8, 10, 25, 11, 12, 18, 26, 6, 1, 31, 17, 37, 15, 36, 35, 20, 32, 4, 5, 13, 19]\n",
      "Distancia     : 1872\n",
      "En el intento 9 , la mejor solución encontrada es: [0, 7, 16, 14, 9, 41, 23, 40, 24, 21, 39, 34, 33, 38, 22, 30, 29, 28, 27, 3, 2, 8, 10, 25, 11, 12, 18, 26, 6, 1, 31, 17, 37, 15, 36, 35, 20, 32, 4, 5, 13, 19]\n",
      "Distancia     : 1872\n",
      "En el intento 10 , la mejor solución encontrada es: [0, 7, 16, 14, 9, 41, 23, 40, 24, 21, 39, 34, 33, 38, 22, 30, 29, 28, 27, 3, 2, 8, 10, 25, 11, 12, 18, 26, 6, 1, 31, 17, 37, 15, 36, 35, 20, 32, 4, 5, 13, 19]\n",
      "Distancia     : 1872\n"
     ]
    }
   ],
   "source": [
    "def busqueda_local(problem, num_intentos=10):\n",
    "    mejor_solucion = []\n",
    "    mejor_distancia = float('inf')  # inicializa con infinito\n",
    "\n",
    "    for _ in range(num_intentos):\n",
    "        solucion_referencia = crear_solucion(Nodos)\n",
    "        while True:\n",
    "            vecina = genera_vecina(solucion_referencia)\n",
    "\n",
    "            distancia_vecina = distancia_total(vecina, problem)\n",
    "\n",
    "            if distancia_vecina < mejor_distancia:\n",
    "                mejor_solucion = vecina\n",
    "                mejor_distancia = distancia_vecina\n",
    "            else:\n",
    "                break\n",
    "\n",
    "            solucion_referencia = vecina\n",
    "\n",
    "        print(\"En el intento\", _+1, \", la mejor solución encontrada es:\" , mejor_solucion)\n",
    "        print(\"Distancia     :\" , mejor_distancia)\n",
    "\n",
    "    return mejor_solucion\n",
    "\n",
    "sol = busqueda_local(problem)\n"
   ]
  },
  {
   "cell_type": "markdown",
   "id": "BEFvvAaSNa37",
   "metadata": {
    "id": "BEFvvAaSNa37"
   },
   "source": [
    "Entornos Variables"
   ]
  },
  {
   "cell_type": "code",
   "execution_count": 27,
   "id": "16RR30TrNdDo",
   "metadata": {
    "id": "16RR30TrNdDo"
   },
   "outputs": [],
   "source": [
    "# Modificación a funcion vecina\n",
    "def genera_vecina(solucion, vecindario=1):\n",
    "    mejor_solucion = solucion[:]\n",
    "    mejor_distancia = distancia_total(solucion, problem)\n",
    "\n",
    "    for _ in range(vecindario):\n",
    "        for i in range(1, len(solucion)-1):\n",
    "            for j in range(i+1, len(solucion)):\n",
    "                vecina = solucion[:i] + [solucion[j]] + solucion[i+1:j] + [solucion[i]] + solucion[j+1:]\n",
    "                distancia_vecina = distancia_total(vecina, problem)\n",
    "                if distancia_vecina < mejor_distancia:\n",
    "                    mejor_distancia = distancia_vecina\n",
    "                    mejor_solucion = vecina\n",
    "\n",
    "    return mejor_solucion\n"
   ]
  },
  {
   "cell_type": "code",
   "execution_count": 28,
   "id": "squsIRpgNiO_",
   "metadata": {
    "colab": {
     "base_uri": "https://localhost:8080/"
    },
    "id": "squsIRpgNiO_",
    "outputId": "98e2d7a1-517b-4b8b-8475-83173705c007"
   },
   "outputs": [
    {
     "name": "stdout",
     "output_type": "stream",
     "text": [
      "En la iteracion  42 , la mejor solución encontrada es: [0, 28, 30, 38, 22, 29, 14, 16, 15, 17, 31, 36, 35, 39, 24, 40, 21, 9, 8, 34, 33, 20, 32, 4, 6, 26, 5, 19, 13, 10, 23, 41, 25, 11, 12, 18, 2, 27, 3, 1, 37, 7]\n",
      "Distancia     : 1953\n"
     ]
    }
   ],
   "source": [
    "def busqueda_local(problem, max_vecindario=10):\n",
    "    mejor_solucion = []\n",
    "    solucion_referencia = crear_solucion(Nodos)\n",
    "    mejor_distancia = distancia_total(solucion_referencia, problem)\n",
    "    iteracion = 0\n",
    "    vecindario = 1\n",
    "\n",
    "    while True:\n",
    "        iteracion += 1\n",
    "        vecina = genera_vecina(solucion_referencia, vecindario)\n",
    "        distancia_vecina = distancia_total(vecina, problem)\n",
    "\n",
    "        if distancia_vecina < mejor_distancia:\n",
    "            mejor_solucion = vecina\n",
    "            mejor_distancia = distancia_vecina\n",
    "        else:\n",
    "            vecindario += 1\n",
    "            if vecindario > max_vecindario:\n",
    "                break\n",
    "\n",
    "        solucion_referencia = vecina\n",
    "\n",
    "    print(\"En la iteracion \", iteracion, \", la mejor solución encontrada es:\" , mejor_solucion)\n",
    "    print(\"Distancia     :\" , mejor_distancia)\n",
    "    return mejor_solucion\n",
    "\n",
    "sol = busqueda_local(problem)\n"
   ]
  }
 ],
 "metadata": {
  "colab": {
   "provenance": []
  },
  "kernelspec": {
   "display_name": "Python 3 (ipykernel)",
   "language": "python",
   "name": "python3"
  },
  "language_info": {
   "codemirror_mode": {
    "name": "ipython",
    "version": 3
   },
   "file_extension": ".py",
   "mimetype": "text/x-python",
   "name": "python",
   "nbconvert_exporter": "python",
   "pygments_lexer": "ipython3",
   "version": "3.10.9"
  }
 },
 "nbformat": 4,
 "nbformat_minor": 5
}
